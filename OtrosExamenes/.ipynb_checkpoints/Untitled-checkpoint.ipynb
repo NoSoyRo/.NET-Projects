{
 "cells": [
  {
   "cell_type": "code",
   "execution_count": 1,
   "id": "69752c0b",
   "metadata": {},
   "outputs": [],
   "source": [
    "import numpy as np\n",
    "import pandas as pd"
   ]
  },
  {
   "cell_type": "code",
   "execution_count": 6,
   "id": "1891a5e2",
   "metadata": {},
   "outputs": [],
   "source": [
    "file = pd.read_csv(\"prueba2.txt\")"
   ]
  },
  {
   "cell_type": "code",
   "execution_count": 9,
   "id": "271791b2",
   "metadata": {},
   "outputs": [],
   "source": [
    "arreglo = file.to_numpy()"
   ]
  },
  {
   "cell_type": "code",
   "execution_count": 10,
   "id": "0fd4a8f4",
   "metadata": {},
   "outputs": [],
   "source": [
    "stringa = \"\"\n",
    "for i in arreglo:\n",
    "    stringa += i\n"
   ]
  },
  {
   "cell_type": "code",
   "execution_count": null,
   "id": "65b29c45",
   "metadata": {},
   "outputs": [],
   "source": [
    "maxim = 0\n",
    "for i in range(0,len(stringa)-14):\n",
    "    multi_i = 1\n",
    "    for j in range(0,13):\n",
    "        multi_i *= int(stringa[i+j])\n",
    "    if multi_i > maxim:\n",
    "        maxim = multi_i\n",
    "        print(i)"
   ]
  }
 ],
 "metadata": {
  "kernelspec": {
   "display_name": "Python 3 (ipykernel)",
   "language": "python",
   "name": "python3"
  },
  "language_info": {
   "codemirror_mode": {
    "name": "ipython",
    "version": 3
   },
   "file_extension": ".py",
   "mimetype": "text/x-python",
   "name": "python",
   "nbconvert_exporter": "python",
   "pygments_lexer": "ipython3",
   "version": "3.8.12"
  }
 },
 "nbformat": 4,
 "nbformat_minor": 5
}
